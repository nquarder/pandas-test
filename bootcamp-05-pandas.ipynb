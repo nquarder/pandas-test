{
 "cells": [
  {
   "cell_type": "markdown",
   "metadata": {},
   "source": [
    "<img style=\"float: left;\" src=\"earth-lab-logo-rgb.png\" width=\"150\" height=\"150\" />\n",
    "\n",
    "# Earth Analytics Education"
   ]
  },
  {
   "cell_type": "markdown",
   "metadata": {},
   "source": [
    "## Important  - Assignment Guidelines\n",
    "\n",
    "1. Before you submit your assignment to GitHub, make sure to run the entire notebook with a fresh kernel. To do this first, **restart the kernel** (in the menubar, select Kernel$\\rightarrow$Restart & Run All)\n",
    "2. Always replace the `raise NotImplementedError()` code with your code that addresses the activity challenge. If you don't replace that code, your notebook will not run.\n",
    "\n",
    "```\n",
    "# YOUR CODE HERE\n",
    "raise NotImplementedError()\n",
    "```\n",
    "\n",
    "3. Any open ended questions will have a \"YOUR ANSWER HERE\" within a markdown cell. Replace that text with your answer also formatted using Markdown.\n",
    "4. **DO NOT RENAME THIS NOTEBOOK File!** If the file name changes, the autograder will not grade your assignment properly.\n",
    "\n",
    "* Only include the package imports, code, and outputs that are required to run your homework assignment.\n",
    "* Be sure that your code can be run on any operating system. This means that:\n",
    "   1. the data should be downloaded in the notebook to ensure it's reproducible\n",
    "   2. all paths should be created dynamically using the `os.path.join`\n",
    "   3. sort lists of dated files even if they are sorted correctly by default on your machine\n",
    "\n",
    "## Follow to PEP 8 Syntax Guidelines & Documentation\n",
    "\n",
    "* Run the `autopep8` tool on all cells prior to submitting (HINT: hit shift + the tool to run it on all cells at once!\n",
    "* Use clear and expressive names for variables. \n",
    "* Organize your code to support readability.\n",
    "* Check for code line length\n",
    "* Use comments and white space sparingly where it is needed\n",
    "* Make sure all python imports are at the top of your notebook and follow PEP 8 order conventions\n",
    "* Spell check your Notebook before submitting it.\n",
    "\n",
    "For all of the plots below, be sure to do the following:\n",
    "\n",
    "* Make sure each plot has a clear TITLE and, where appropriate, label the x and y axes. Be sure to include UNITS in your labels.\n"
   ]
  },
  {
   "cell_type": "markdown",
   "metadata": {},
   "source": [
    "### Add Your Name Below \n",
    "**Your Name:**"
   ]
  },
  {
   "cell_type": "markdown",
   "metadata": {},
   "source": [
    "<img style=\"float: left;\" src=\"colored-bar.png\"/>"
   ]
  },
  {
   "cell_type": "markdown",
   "metadata": {},
   "source": [
    "---"
   ]
  },
  {
   "cell_type": "markdown",
   "metadata": {
    "deletable": false,
    "editable": false,
    "nbgrader": {
     "cell_type": "markdown",
     "checksum": "5e3bb9761f861491e872e027f3de5447",
     "grade": false,
     "grade_id": "hw-instructions",
     "locked": true,
     "schema_version": 3,
     "solution": false
    }
   },
   "source": [
    "# Assignment 5 Homework - Pandas Dataframes\n",
    "\n",
    "Prior to completing assignment 5, be sure you have reviewed \n",
    "\n",
    "* <a href=\"https://www.earthdatascience.org/courses/intro-to-earth-data-science/scientific-data-structures-python/pandas-dataframes/\" target=\"_blank\">Chapter 15 in Section 6 of the Intro to Earth Data Science online textbook</a> which covers **pandas** dataframes.   \n",
    "* You can review the <a href=\"https://www.earthdatascience.org/courses/intro-to-earth-data-science/write-clean-expressive-code/intro-to-clean-code/python-pep-8-style-guide/\" target=\"_blank\">online textbook page on PEP 8 </a> as needed.\n",
    "\n",
    "Read the instructions below for each question carefully to complete the required tasks.\n",
    "\n",
    "## Assignment Data\n",
    "\n",
    "For this assignment, you will write **Python** code to download and work with data on fire occurrence in California between 1992 and 2018 provided by <a href=\"https://www.fs.usda.gov/rds/archive/Catalog/RDS-2013-0009.5\" target=\"_blank\">the United States Forest Service</a>."
   ]
  },
  {
   "cell_type": "markdown",
   "metadata": {
    "deletable": false,
    "editable": false,
    "nbgrader": {
     "cell_type": "markdown",
     "checksum": "faa79ab9db93e7b294f21abba94b7f79",
     "grade": false,
     "grade_id": "cell-da4f7b17cf75523d",
     "locked": true,
     "points": 3,
     "schema_version": 3,
     "solution": false,
     "task": true
    }
   },
   "source": [
    "In the Markdown cell below, write a 2-3 sentence description of the data and cite the data source.\n"
   ]
  },
  {
   "cell_type": "markdown",
   "metadata": {},
   "source": [
    "# YOUR ANSWER HERE"
   ]
  },
  {
   "cell_type": "markdown",
   "metadata": {
    "deletable": false,
    "editable": false,
    "nbgrader": {
     "cell_type": "markdown",
     "checksum": "50cc8cd7ae4e56c0ef79fcf1ece86316",
     "grade": false,
     "grade_id": "cell-cd274524bd101ade",
     "locked": true,
     "schema_version": 3,
     "solution": false,
     "task": false
    }
   },
   "source": [
    "<img style=\"float: left;\" src=\"colored-bar.png\"/>"
   ]
  },
  {
   "cell_type": "markdown",
   "metadata": {
    "deletable": false,
    "editable": false,
    "nbgrader": {
     "cell_type": "markdown",
     "checksum": "a6bcbbbc67e0773fd07bc16b0e00d7e0",
     "grade": false,
     "grade_id": "question-student-imports",
     "locked": true,
     "schema_version": 3,
     "solution": false
    }
   },
   "source": [
    "## Import Python Packages\n",
    "\n",
    "In the cell below, add code **after the line for `Your Code Here`**, replacing `raise NotImplementedError()` with your code to import the packages/modules needed to:\n",
    "* create plots \n",
    "* set your working directory\n",
    "* download data using earthpy functions\n",
    "* work with pandas dataframes\n",
    "\n",
    "Be sure to list the package imports following the appropriate PEP 8 order. "
   ]
  },
  {
   "cell_type": "code",
   "execution_count": null,
   "metadata": {
    "deletable": false,
    "nbgrader": {
     "cell_type": "code",
     "checksum": "20489880accefdb27a2f10ca8cc97835",
     "grade": false,
     "grade_id": "student-imports-answer",
     "locked": false,
     "schema_version": 3,
     "solution": true,
     "task": false
    }
   },
   "outputs": [],
   "source": [
    "# YOUR CODE HERE\n",
    "raise NotImplementedError()"
   ]
  },
  {
   "cell_type": "code",
   "execution_count": null,
   "metadata": {
    "deletable": false,
    "editable": false,
    "nbgrader": {
     "cell_type": "code",
     "checksum": "da50f65b593f0408dc8deed5ed15c271",
     "grade": true,
     "grade_id": "package-import-tests",
     "locked": true,
     "points": 4,
     "schema_version": 3,
     "solution": false,
     "task": false
    }
   },
   "outputs": [],
   "source": [
    "# Test package imports - DO NOT MODIFY THIS CELL!\n",
    "import_answer_points = 0\n",
    "\n",
    "try:\n",
    "    pd.NA\n",
    "    print(\"\\u2705 Score! Pandas has been imported as a pd!\")\n",
    "    import_answer_points += 1\n",
    "except NameError:\n",
    "    print(\"\\u274C Pandas has not been imported as a pd.\")\n",
    "\n",
    "try:\n",
    "    plt.show()\n",
    "    print(\"\\u2705 Nice! matplotlib.pyplot has been imported as plt!\")\n",
    "    import_answer_points += 1\n",
    "except NameError:\n",
    "    print(\"matplotlib.pyplot has not been imported as plt\")\n",
    "\n",
    "try:\n",
    "    os.getcwd()\n",
    "    print(\"\\u2705 Great work! The os module has imported correctly!\")\n",
    "    import_answer_points += 1\n",
    "except NameError:\n",
    "    print(\"\\u274C Oops make sure that the os package is imported.\")\n",
    "\n",
    "try:\n",
    "    data = et.io\n",
    "    print(\"\\u2705 Great work! The earthpy package has imported correctly!\")\n",
    "    import_answer_points += 1\n",
    "except NameError:\n",
    "    print((\"\\u274C Oops make sure that the earthpy package is imported \"\n",
    "           \"using the alias et.\"))\n",
    "\n",
    "print(\"\\n \\u27A1 You received {} out of 4 points.\".format(import_answer_points))\n",
    "\n",
    "import_answer_points"
   ]
  },
  {
   "cell_type": "markdown",
   "metadata": {
    "deletable": false,
    "editable": false,
    "nbgrader": {
     "cell_type": "markdown",
     "checksum": "cdc677dc6e20b58a1c775c393a7ff744",
     "grade": false,
     "grade_id": "question-download-data",
     "locked": true,
     "schema_version": 3,
     "solution": false,
     "task": false
    }
   },
   "source": [
    "## Download Data Using EarthPy\n",
    "\n",
    "You will work with the same US Forest Service data about fires this week.\n",
    "\n",
    "In the cell below, add code replacing `raise NotImplementedError()` with your code, to complete the following task:\n",
    "\n",
    "* Download and unzip the following dataset using **earthpy**: \n",
    "    * https://www.fs.usda.gov/rds/archive/products/RDS-2013-0009.5/RDS-2013-0009.5_SQLITE.zip\n",
    "        * The dataset contains records of fires taking place in the US between 1992 and 2018. "
   ]
  },
  {
   "cell_type": "code",
   "execution_count": null,
   "metadata": {
    "deletable": false,
    "nbgrader": {
     "cell_type": "code",
     "checksum": "4ae1af384c3d34c1a9f98c17b42b3a9e",
     "grade": true,
     "grade_id": "student-download-data-answer",
     "locked": false,
     "points": 1,
     "schema_version": 3,
     "solution": true,
     "task": false
    }
   },
   "outputs": [],
   "source": [
    "# YOUR CODE HERE\n",
    "raise NotImplementedError()"
   ]
  },
  {
   "cell_type": "markdown",
   "metadata": {
    "deletable": false,
    "editable": false,
    "nbgrader": {
     "cell_type": "markdown",
     "checksum": "90cce776071f4fcf593d4a51799c3edc",
     "grade": false,
     "grade_id": "question-set-wd",
     "locked": true,
     "schema_version": 3,
     "solution": false,
     "task": false
    }
   },
   "source": [
    "## Set Your Working Directory\n",
    "\n",
    "In the cell below, add code **after the line for `Your Code Here`**, replacing `raise NotImplementedError()` with your code, to set your working directory to **your `earth-analytics/data` directory in your home directory**.\n",
    "\n",
    "Be sure to use the appropriate functions that will allow your code to run successfully on any operating system."
   ]
  },
  {
   "cell_type": "code",
   "execution_count": null,
   "metadata": {
    "deletable": false,
    "nbgrader": {
     "cell_type": "code",
     "checksum": "252bc5b508afd2f494e4cabaee471f6b",
     "grade": true,
     "grade_id": "student-set-wd-answer",
     "locked": false,
     "points": 1,
     "schema_version": 3,
     "solution": true,
     "task": false
    }
   },
   "outputs": [],
   "source": [
    "# YOUR CODE HERE\n",
    "raise NotImplementedError()"
   ]
  },
  {
   "cell_type": "markdown",
   "metadata": {
    "deletable": false,
    "editable": false,
    "nbgrader": {
     "cell_type": "markdown",
     "checksum": "10d05f814521dcc3f49b247c7c2d673f",
     "grade": false,
     "grade_id": "question-check-path",
     "locked": true,
     "schema_version": 3,
     "solution": false,
     "task": false
    }
   },
   "source": [
    "## Define and Check Path to Data File\n",
    "\n",
    "In the cell below, add code **after the line for `Your Code Here`**, replacing `raise NotImplementedError()` with your code, to complete the following tasks:\n",
    "\n",
    "1. Define a **relative path to the file downloaded using earthpy**.\n",
    "    * Note: the path should be **relative** to your earth-analytics directory in your home directory because that is where you set your working directory.\n",
    "2. Check that the path exists (i.e. receive a response of True from the appropriate function). Use an `if` statement to print an appropriate warning if the path does not exist.\n",
    "\n",
    "Be sure to use the appropriate functions that will allow your code to run successfully on any operating system."
   ]
  },
  {
   "cell_type": "code",
   "execution_count": null,
   "metadata": {
    "deletable": false,
    "nbgrader": {
     "cell_type": "code",
     "checksum": "0a27643ce77baf7ed966c20e3fe8529f",
     "grade": true,
     "grade_id": "student-check-path-answer",
     "locked": false,
     "points": 2,
     "schema_version": 3,
     "solution": true,
     "task": false
    }
   },
   "outputs": [],
   "source": [
    "# YOUR CODE HERE\n",
    "raise NotImplementedError()"
   ]
  },
  {
   "cell_type": "markdown",
   "metadata": {
    "deletable": false,
    "editable": false,
    "nbgrader": {
     "cell_type": "markdown",
     "checksum": "210660434763d6fdfaa58ca9eb90735f",
     "grade": false,
     "grade_id": "cell-460f50aa55521eaf",
     "locked": true,
     "schema_version": 3,
     "solution": false,
     "task": false
    }
   },
   "source": [
    "<img style=\"float: left;\" src=\"colored-bar.png\"/>"
   ]
  },
  {
   "cell_type": "markdown",
   "metadata": {
    "deletable": false,
    "editable": false,
    "nbgrader": {
     "cell_type": "markdown",
     "checksum": "c3554d88a9e40c8431e376b03bd5c83b",
     "grade": false,
     "grade_id": "question-import-data",
     "locked": true,
     "schema_version": 3,
     "solution": false,
     "task": false
    }
   },
   "source": [
    "## Import Data Into Pandas Dataframes\n",
    "\n",
    "In the cell below, replace `raise NotImplementedError()` with code to complete the following tasks:\n",
    "1. Check if your database has already been stored in a variable as a **pandas** dataframe.\n",
    "2. IF NOT: Import the downloaded `.sqlite` file into a **pandas** dataframe using the **relative path** you defined in the previous cell and the `pd.read_sql_query(\"SELECT * FROM table_name\", \"sqlite:///\" + sqlite_path))` function, making sure replace table_name and sqlite_path with the correct values (the table name is available in the metadata).\n",
    "3. Print the **only first 5 records** of the dataframe using `.head()`.\n",
    "\n",
    "A few notes for the curious about connecting to databases with pandas:\n",
    "  * A pandas `DataFrame` corresponds to a single database table rather than the whole database, so we must select a subset of the database in order to use it with pandas\n",
    "  * pandas will take either a **database connection object** or a **uri** (think of it as like a url, but specifying a database protocol instead of Hyper-Text Transfer Protocol, or http) as the second argument to the `pd.read_sql_query` function. We would need the `sqlite3` package get a connection object, so we are going the uri route. You can read more about how to construct uris for different types of databases on the [SQLAlchemy documentation](https://docs.sqlalchemy.org/en/14/core/engines.html)\n",
    "  * Unfortunately, pandas can't read in a table by name for this type of database (SQLITE). That means we need to do a bit of extra work by writing the query \"SELECT * FROM table_name*.\n",
    "  \n",
    "Pandas can import many types of open files! A common one we'll be working with is csv (comma-separated value) or tsv (tab-separated value) files."
   ]
  },
  {
   "cell_type": "code",
   "execution_count": null,
   "metadata": {
    "deletable": false,
    "nbgrader": {
     "cell_type": "code",
     "checksum": "10ed58f8e0f4b0aa966a22f661720b7f",
     "grade": false,
     "grade_id": "student-import-data-answer",
     "locked": false,
     "schema_version": 3,
     "solution": true,
     "task": false
    }
   },
   "outputs": [],
   "source": [
    "# YOUR CODE HERE\n",
    "raise NotImplementedError()"
   ]
  },
  {
   "cell_type": "code",
   "execution_count": null,
   "metadata": {
    "deletable": false,
    "editable": false,
    "nbgrader": {
     "cell_type": "code",
     "checksum": "1afdc4e01d751959baf25ea07c6c8b88",
     "grade": true,
     "grade_id": "cell-fc66a64c11b5ffdd",
     "locked": true,
     "points": 3,
     "schema_version": 3,
     "solution": false,
     "task": false
    }
   },
   "outputs": [],
   "source": [
    "student_head_df = _\n",
    "\n",
    "head_dataframe_pts = 0\n",
    "\n",
    "# Tests that the datset is a pandas dataset\n",
    "if isinstance(student_head_df, pd.DataFrame):\n",
    "    print((\"\\u2705 Great job! Your returned a DataFrame, well done!\"))\n",
    "    head_dataframe_pts += 1\n",
    "else:\n",
    "    print((\"\\u274C Oops. You did not return a DataFrame. Make sure that \"\n",
    "           \"you just ran the previous cell and that the last line is a \"\n",
    "           \"DataFrame\"))\n",
    "\n",
    "if len(student_head_df) == 5:\n",
    "    print((\"\\u2705 Great job! You ran the .head() method!\"))\n",
    "    head_dataframe_pts += 2\n",
    "else:\n",
    "    print((\"\\u274C Oops. Check that you ran the .head() method on your \"\n",
    "           \"DataFrame\"))\n",
    "\n",
    "print(\"\\n \\u27A1 You recieved {} points out of 3\".format(\n",
    "    head_dataframe_pts))\n",
    "\n",
    "head_dataframe_pts"
   ]
  },
  {
   "cell_type": "markdown",
   "metadata": {
    "deletable": false,
    "editable": false,
    "nbgrader": {
     "cell_type": "markdown",
     "checksum": "0c6ce376599b48967a9833efaa89dd2a",
     "grade": false,
     "grade_id": "cell-97cb67dc45eae5cc",
     "locked": true,
     "schema_version": 3,
     "solution": false,
     "task": false
    }
   },
   "source": [
    "In the cell below, call the dataframe object that you created above.\n",
    "Run the cell - you should see only the first 5 and the last 5 rows of the data frame \n",
    "render below the cell. \n",
    "\n",
    "Important: DO NOT USE `print()`, simply add the variable name below and\n",
    "run the cell!"
   ]
  },
  {
   "cell_type": "code",
   "execution_count": null,
   "metadata": {
    "deletable": false,
    "nbgrader": {
     "cell_type": "code",
     "checksum": "19b6cb71ffbca3c1d19515c12fb87742",
     "grade": false,
     "grade_id": "cell-1a57abfe266e7643",
     "locked": false,
     "schema_version": 3,
     "solution": true,
     "task": false
    }
   },
   "outputs": [],
   "source": [
    "# YOUR CODE HERE\n",
    "raise NotImplementedError()"
   ]
  },
  {
   "cell_type": "code",
   "execution_count": null,
   "metadata": {
    "deletable": false,
    "editable": false,
    "nbgrader": {
     "cell_type": "code",
     "checksum": "8ea0e4f09fc86a8f7d8f631caf51d8a0",
     "grade": true,
     "grade_id": "cell-5093525746a3603b",
     "locked": true,
     "points": 3,
     "schema_version": 3,
     "solution": false,
     "task": false
    }
   },
   "outputs": [],
   "source": [
    "student_fire_df = _\n",
    "\n",
    "fires_dataframe_pts = 0\n",
    "\n",
    "# Tests that the datset is a pandas dataset\n",
    "if type(student_fire_df) == pd.DataFrame:\n",
    "    print((\"\\u2705 Great job! Your data were correctly Data read in as \"\n",
    "           \"a DataFrame, well done!\"))\n",
    "    fires_dataframe_pts += 1\n",
    "else:\n",
    "    print((\"\\u274C Oops. Your data is not a Dataframe. Make sure to \"\n",
    "           \"run the cell directly above this one immediately before \"\n",
    "           \"running these tests.\"))\n",
    "\n",
    "\n",
    "if len(student_fire_df)==2166753:\n",
    "    print((\"\\u2705 Great job! Your DataFrame has the right values\"))\n",
    "    fires_dataframe_pts += 2\n",
    "else:\n",
    "    print((\"\\u274C Oops. Your DataFrame does not have the right number\"\n",
    "           \"of rows. Make sure that you called the full DataFrame.\"))\n",
    "    \n",
    "print(\"\\n \\u27A1 You recieved {} points out of 3\".format(\n",
    "    fires_dataframe_pts))\n",
    "\n",
    "fires_dataframe_pts"
   ]
  },
  {
   "cell_type": "markdown",
   "metadata": {
    "deletable": false,
    "editable": false,
    "nbgrader": {
     "cell_type": "markdown",
     "checksum": "32008cfed4bbab07dbc9699a19a1241e",
     "grade": false,
     "grade_id": "cell-67b1f114a2c07cc8",
     "locked": true,
     "schema_version": 3,
     "solution": false,
     "task": false
    }
   },
   "source": [
    "<img style=\"float: left;\" src=\"colored-bar.png\"/>"
   ]
  },
  {
   "cell_type": "markdown",
   "metadata": {
    "deletable": false,
    "editable": false,
    "nbgrader": {
     "cell_type": "markdown",
     "checksum": "f81acd97bb9ca0980df5e0fac20a621a",
     "grade": false,
     "grade_id": "question-info-pd",
     "locked": true,
     "schema_version": 3,
     "solution": false,
     "task": false
    }
   },
   "source": [
    "## Get Description Of Your Data's Structure\n",
    "\n",
    "In the cell below, add code **after the line for `Your Code Here`**, replacing `raise NotImplementedError()` with your code, to complete the following task:\n",
    "\n",
    "* Use the appropriate code to display general information (in particular, the number of rows and columns, column names and data types) about the dataset.\n",
    "    * Choose the code that most efficiently (i.e. with the least amount of code) accomplishes this goal. "
   ]
  },
  {
   "cell_type": "code",
   "execution_count": null,
   "metadata": {
    "deletable": false,
    "nbgrader": {
     "cell_type": "code",
     "checksum": "d6db458a7e25bbc6716967b2d84a9b52",
     "grade": true,
     "grade_id": "student-info-pd-answer",
     "locked": false,
     "points": 1,
     "schema_version": 3,
     "solution": true,
     "task": false
    }
   },
   "outputs": [],
   "source": [
    "# YOUR CODE HERE\n",
    "raise NotImplementedError()"
   ]
  },
  {
   "cell_type": "markdown",
   "metadata": {},
   "source": [
    "# Filter your data\n",
    "\n",
    "You only need California fires that are greater than 100 acres in size for this analysis. Follow the instructions below to select only the rows you need.\n",
    "\n",
    "You can use a list of **boolean** values to select rows using the square brackets in pandas.\n",
    "\n",
    "## Step 1: Get the California fires\n",
    "In the cell below, start by generating a DataFrame containing only California fires - the first for which the `STATE` column is equal to `'CA'` and saving it to a descriptive variable. \n",
    "\n",
    "**Make sure to call your DataFrame variable at the end of the cell**"
   ]
  },
  {
   "cell_type": "code",
   "execution_count": null,
   "metadata": {
    "deletable": false,
    "nbgrader": {
     "cell_type": "code",
     "checksum": "3371e3022d242a24c2e24640ff8b1e9a",
     "grade": false,
     "grade_id": "cell-6860bbe07b7a05a5",
     "locked": false,
     "schema_version": 3,
     "solution": true,
     "task": false
    }
   },
   "outputs": [],
   "source": [
    "# YOUR CODE HERE\n",
    "raise NotImplementedError()"
   ]
  },
  {
   "cell_type": "code",
   "execution_count": null,
   "metadata": {
    "deletable": false,
    "editable": false,
    "nbgrader": {
     "cell_type": "code",
     "checksum": "1eb8e64617f567905cdbd8d54fcd0ab0",
     "grade": true,
     "grade_id": "cell-7558c58e4fdf7757",
     "locked": true,
     "points": 3,
     "schema_version": 3,
     "solution": false,
     "task": false
    }
   },
   "outputs": [],
   "source": [
    "student_ca_df = _\n",
    "\n",
    "ca_fires_dataframe_pts = 0\n",
    "\n",
    "# Tests that the datset is a pandas dataset\n",
    "if type(student_ca_df) == pd.DataFrame:\n",
    "    print((\"\\u2705 Great job! Your data were correctly Data read in as \"\n",
    "           \"a DataFrame, well done!\"))\n",
    "    ca_fires_dataframe_pts += 1\n",
    "else:\n",
    "    print((\"\\u274C Oops. Your data is not a Dataframe. Make sure to \"\n",
    "           \"run the cell directly above this one immediately before \"\n",
    "           \"running these tests.\"))\n",
    "\n",
    "\n",
    "if len(student_ca_df)==235229:\n",
    "    print((\"\\u2705 Great job! Your DataFrame has the right values\"))\n",
    "    ca_fires_dataframe_pts += 2\n",
    "else:\n",
    "    print((\"\\u274C Oops. Your DataFrame does not have the right number\"\n",
    "           \"of rows. Check your filter condition.\"))\n",
    "    \n",
    "print(\"\\n \\u27A1 You recieved {} points out of 3\".format(\n",
    "    ca_fires_dataframe_pts))\n",
    "\n",
    "ca_fires_dataframe_pts"
   ]
  },
  {
   "cell_type": "markdown",
   "metadata": {},
   "source": [
    "## Step 2: Select the fires greater than 100 acres\n",
    "\n",
    "Next, get the rows the fires larger than 100 acres from your DataFrame of CA fires.\n",
    "\n",
    "**Make sure to call your DataFrame variable at the end of the cell**"
   ]
  },
  {
   "cell_type": "code",
   "execution_count": null,
   "metadata": {
    "deletable": false,
    "nbgrader": {
     "cell_type": "code",
     "checksum": "caa3a0b6b168a6c32dc41d37ffdc0df4",
     "grade": false,
     "grade_id": "cell-d8c609400bd99073",
     "locked": false,
     "schema_version": 3,
     "solution": true,
     "task": false
    }
   },
   "outputs": [],
   "source": [
    "# YOUR CODE HERE\n",
    "raise NotImplementedError()"
   ]
  },
  {
   "cell_type": "code",
   "execution_count": null,
   "metadata": {
    "deletable": false,
    "editable": false,
    "nbgrader": {
     "cell_type": "code",
     "checksum": "722bd608e2ddd649a88524974816107b",
     "grade": true,
     "grade_id": "cell-0935b4ffa49b10e7",
     "locked": true,
     "points": 3,
     "schema_version": 3,
     "solution": false,
     "task": false
    }
   },
   "outputs": [],
   "source": [
    "student_gt100_df = _\n",
    "\n",
    "gt100_fires_dataframe_pts = 0\n",
    "\n",
    "# Tests that the datset is a pandas dataset\n",
    "if type(student_gt100_df) == pd.DataFrame:\n",
    "    print((\"\\u2705 Great job! Your data were correctly Data read in as \"\n",
    "           \"a DataFrame, well done!\"))\n",
    "    gt100_fires_dataframe_pts += 1\n",
    "else:\n",
    "    print((\"\\u274C Oops. Your data is not a Dataframe. Make sure to \"\n",
    "           \"run the cell directly above this one immediately before \"\n",
    "           \"running these tests.\"))\n",
    "\n",
    "\n",
    "if len(student_gt100_df)==5052:\n",
    "    print((\"\\u2705 Great job! Your DataFrame has the right values\"))\n",
    "    gt100_fires_dataframe_pts += 2\n",
    "else:\n",
    "    print((\"\\u274C Oops. Your DataFrame does not have the right number\"\n",
    "           \"of rows. Did you select CA fires greater than 100 acres?\"))\n",
    "    \n",
    "print(\"\\n \\u27A1 You recieved {} points out of 4\".format(\n",
    "    gt100_fires_dataframe_pts))\n",
    "\n",
    "gt100_fires_dataframe_pts"
   ]
  },
  {
   "cell_type": "markdown",
   "metadata": {},
   "source": [
    "# Step 3: Select only the columns that you need\n",
    "\n",
    "There are a lot of columns in this DataFrame that you don't need right now. You will be analyzing fire size by year and cause. You can also select a list of columns by putting the **list** into square brackets (you will now have **double square brackets**.\n",
    "\n",
    "Select the following columns and save them to a descriptive variable:\n",
    "  - FOD_ID\n",
    "  - FIRE_YEAR\n",
    "  - NWCG_GENERAL_CAUSE\n",
    "  - FIRE_SIZE\n",
    "\n",
    "**Make sure to call your DataFrame variable at the end of the cell**"
   ]
  },
  {
   "cell_type": "code",
   "execution_count": null,
   "metadata": {
    "deletable": false,
    "nbgrader": {
     "cell_type": "code",
     "checksum": "06d1f39b7fd2006163aba1432f2dcbf0",
     "grade": false,
     "grade_id": "cell-6e6664245772b635",
     "locked": false,
     "schema_version": 3,
     "solution": true,
     "task": false
    }
   },
   "outputs": [],
   "source": [
    "# YOUR CODE HERE\n",
    "raise NotImplementedError()"
   ]
  },
  {
   "cell_type": "code",
   "execution_count": null,
   "metadata": {
    "deletable": false,
    "editable": false,
    "nbgrader": {
     "cell_type": "code",
     "checksum": "3fcbf12035edbac42bdc6881ebc6513b",
     "grade": true,
     "grade_id": "cell-f9e98bc50ba01654",
     "locked": true,
     "points": 2,
     "schema_version": 3,
     "solution": false,
     "task": false
    }
   },
   "outputs": [],
   "source": [
    "student_cols_df = _\n",
    "\n",
    "cols_pts = 0\n",
    "\n",
    "if len(student_cols_df)==5052:\n",
    "    print((\"\\u2705 Great job! Your DataFrame has the right number of columns\"))\n",
    "    cols_pts += 2\n",
    "else:\n",
    "    print((\"\\u274C Oops. Your DataFrame does not have the right number\"\n",
    "           \"of columns.\"))\n",
    "    \n",
    "print(\"\\n \\u27A1 You recieved {} points out of 2\".format(\n",
    "    cols_pts))\n",
    "\n",
    "cols_pts"
   ]
  },
  {
   "cell_type": "markdown",
   "metadata": {
    "deletable": false,
    "editable": false,
    "nbgrader": {
     "cell_type": "markdown",
     "checksum": "aa690aa8fc776fad7dbee373579ffeeb",
     "grade": false,
     "grade_id": "cell-ff289f5d452088c1",
     "locked": true,
     "points": 0,
     "schema_version": 3,
     "solution": false,
     "task": true
    }
   },
   "source": [
    "**BONUS**: rename the columns of your `DataFrame` in the cell below for up to 5 pts extra credit."
   ]
  },
  {
   "cell_type": "code",
   "execution_count": null,
   "metadata": {},
   "outputs": [],
   "source": []
  },
  {
   "cell_type": "markdown",
   "metadata": {},
   "source": [
    "## Step 4: Set the Index to the fire id\n",
    "\n",
    "Notice the bold \"column\" all the way to the left of your `DataFrame`. This is the index. Typically, you want the index to be a unique identifier of the data in each row. The index also has special properties: by default, it is the x-axis when plotting, and the **pivot** column when joining `DataFrame`s. Later on, you will take advantage of these special properties.\n",
    "\n",
    "Right now, the index refers to the row number in the unfiltered `DataFrame`, which is a unique identifier but not one that gives you meaningful information. Setting the index to the `FOD_ID` column makes more sense - you can refer back to the original database with this ID to get more information. After you set the index and save the result to another variable, compare the way Jupyter Notebook displays the new and old version of your `DataFrame`\n",
    "\n",
    "**Make sure to call your new DataFrame at the end of the answer cell**"
   ]
  },
  {
   "cell_type": "code",
   "execution_count": null,
   "metadata": {
    "deletable": false,
    "nbgrader": {
     "cell_type": "code",
     "checksum": "903842a353812a319cddaa412a64e0ea",
     "grade": false,
     "grade_id": "cell-3630a5727e948660",
     "locked": false,
     "schema_version": 3,
     "solution": true,
     "task": false
    }
   },
   "outputs": [],
   "source": [
    "# YOUR CODE HERE\n",
    "raise NotImplementedError()"
   ]
  },
  {
   "cell_type": "code",
   "execution_count": null,
   "metadata": {
    "deletable": false,
    "editable": false,
    "nbgrader": {
     "cell_type": "code",
     "checksum": "4bf674889c2128b1778a9fc64c9c6f4f",
     "grade": true,
     "grade_id": "cell-68026c61c48261dd",
     "locked": true,
     "points": 3,
     "schema_version": 3,
     "solution": false,
     "task": false
    }
   },
   "outputs": [],
   "source": [
    "student_set_idx_df = _\n",
    "\n",
    "set_idx_pts = 0\n",
    "\n",
    "# Tests that the datset is a pandas dataset\n",
    "if type(student_set_idx_df) == pd.DataFrame:\n",
    "    print((\"\\u2705 Great job! Your data were correctly Data read in as \"\n",
    "           \"a DataFrame, well done!\"))\n",
    "    set_idx_pts += 1\n",
    "else:\n",
    "    print((\"\\u274C Oops. Your data is not a Dataframe. Make sure to \"\n",
    "           \"run the cell directly above this one immediately before \"\n",
    "           \"running these tests.\"))\n",
    "\n",
    "\n",
    "if sum(student_set_idx_df.index)==419076383616:\n",
    "    print((\"\\u2705 Great job! Your DataFrame Index has the right values\"))\n",
    "    set_idx_pts += 2\n",
    "else:\n",
    "    print((\"\\u274C Oops. Your DataFrame Index does not have the right \"\n",
    "           \"values. Make sure you saved your results.\"))\n",
    "    \n",
    "print(\"\\n \\u27A1 You recieved {} points out of 3\".format(\n",
    "    set_idx_pts))\n",
    "\n",
    "set_idx_pts"
   ]
  },
  {
   "cell_type": "markdown",
   "metadata": {
    "deletable": false,
    "editable": false,
    "nbgrader": {
     "cell_type": "markdown",
     "checksum": "7a44eb7e7cdf8d78773e5dcb55ac33b3",
     "grade": false,
     "grade_id": "cell-581a96d234aba566",
     "locked": true,
     "points": 2,
     "schema_version": 3,
     "solution": false,
     "task": true
    }
   },
   "source": [
    "In the cell below, describe the difference between your `DataFrame` before and after setting the index.\n"
   ]
  },
  {
   "cell_type": "markdown",
   "metadata": {},
   "source": []
  },
  {
   "cell_type": "markdown",
   "metadata": {
    "deletable": false,
    "editable": false,
    "nbgrader": {
     "cell_type": "markdown",
     "checksum": "26f9a425449f6a49242b0f323ee2becc",
     "grade": false,
     "grade_id": "question-run-calc-pandas",
     "locked": true,
     "schema_version": 3,
     "solution": false,
     "task": false
    }
   },
   "source": [
    "## Create a Column for Fire Size in Hectares\n",
    "\n",
    "In the cell below complete the following tasks:\n",
    "\n",
    "1. Write a function to convert from acres to hectares\n",
    "    * 1 hectare = 2.47105 acres \n",
    "    * Think about which mathematical operation (e.g. `+`, `*`) you need to run this calculation.\n",
    "    \n",
    "2. Create a new column in your `DataFrame` that contains fire_size in HECTARES instead of acres. Name the column **fire_size_hectares** (HINT: hectares is a standard international unit that represents 10,000 square meters).\n",
    "\n",
    "**At the end of the cell, call the data frame object so the first 5 and last 5 rows render\n",
    "below the cell (DO NOT USE PRINT)**\n"
   ]
  },
  {
   "cell_type": "code",
   "execution_count": null,
   "metadata": {
    "deletable": false,
    "nbgrader": {
     "cell_type": "code",
     "checksum": "d64d6450a9c8313fb64c77b33b04647c",
     "grade": false,
     "grade_id": "student-run-calc-pandas-answer",
     "locked": false,
     "schema_version": 3,
     "solution": true,
     "task": false
    }
   },
   "outputs": [],
   "source": [
    "# YOUR CODE HERE\n",
    "raise NotImplementedError()"
   ]
  },
  {
   "cell_type": "code",
   "execution_count": null,
   "metadata": {
    "deletable": false,
    "editable": false,
    "nbgrader": {
     "cell_type": "code",
     "checksum": "21b010ee66a8e0d188898a30369c6913",
     "grade": true,
     "grade_id": "cell-56fbc05cc3981967",
     "locked": true,
     "points": 6,
     "schema_version": 3,
     "solution": false,
     "task": false
    }
   },
   "outputs": [],
   "source": [
    "# DO NOT MODIFY THIS CELL\n",
    "\n",
    "modified_student_data_tail = _\n",
    "\n",
    "modified_student_data_tail_points = 0\n",
    "\n",
    "ans_size = 6431416\n",
    "\n",
    "try: \n",
    "    modified_student_data_tail.fire_size_hectares\n",
    "    print((\"\\u2705 Great - You added a fire_size_hectares column to \"\n",
    "           \"your dataframe!\"))\n",
    "    modified_student_data_tail_points += 2\n",
    "    \n",
    "    if round(sum(modified_student_data_tail.fire_size_hectares), 0)== ans_size:\n",
    "        print(\"\\u2705 Values added in the new column are correct!\")\n",
    "        modified_student_data_tail_points += 4\n",
    "    else:\n",
    "        print((\"\\u274C The values in the new column don't match the \"\n",
    "               \"expected values.\"))\n",
    "except: \n",
    "    print((\"\\u274C Oops - does a fire_size_hectares column exist \"\n",
    "           \"in your data frame?\"))\n",
    "    \n",
    "print(\"\\n \\u27A1 You recieved {} out of 6 points\".format(\n",
    "    modified_student_data_tail_points))\n",
    "    \n",
    "modified_student_data_tail_points"
   ]
  },
  {
   "cell_type": "markdown",
   "metadata": {
    "deletable": false,
    "editable": false,
    "nbgrader": {
     "cell_type": "markdown",
     "checksum": "ffa526a95e49f1938c72ed03992b2409",
     "grade": false,
     "grade_id": "question-summarize-pd",
     "locked": true,
     "schema_version": 3,
     "solution": false,
     "task": false
    }
   },
   "source": [
    "## Summarize the Entire Dataset\n",
    "\n",
    "In the cell below, add code **after the line for `Your Code Here`**, replacing `raise NotImplementedError()` with your code, to complete the following task:\n",
    "\n",
    "* There is a pandas method that will display a variety of common summary statistics (you can find it in the reading). Try this method out on the `fire_size_hectares` columne of your `DataFrame` below."
   ]
  },
  {
   "cell_type": "code",
   "execution_count": null,
   "metadata": {
    "deletable": false,
    "nbgrader": {
     "cell_type": "code",
     "checksum": "08784c01d0d875dcfb08d479e97e6bf0",
     "grade": true,
     "grade_id": "student-summarize-pd-answer",
     "locked": false,
     "points": 5,
     "schema_version": 3,
     "solution": true,
     "task": false
    }
   },
   "outputs": [],
   "source": [
    "# YOUR CODE HERE\n",
    "raise NotImplementedError()"
   ]
  },
  {
   "cell_type": "code",
   "execution_count": null,
   "metadata": {},
   "outputs": [],
   "source": []
  },
  {
   "cell_type": "markdown",
   "metadata": {
    "deletable": false,
    "editable": false,
    "nbgrader": {
     "cell_type": "markdown",
     "checksum": "cce7217fa197c4f71886a421c799384d",
     "grade": false,
     "grade_id": "question-groupby",
     "locked": true,
     "schema_version": 3,
     "solution": false,
     "task": false
    }
   },
   "source": [
    "## Calculate Maximum Fire Size Per Year\n",
    "\n",
    "In the cell below, add code **after the line for `Your Code Here`**, replacing `raise NotImplementedError()` with your code, to complete the following tasks:\n",
    "\n",
    "1. Calculate the maximum fire size in hectares for each year in the dataset.\n",
    "2. Save the output to a new dataframe.\n",
    "    * Choose the code that most efficiently (i.e. with the least amount of code) accomplishes this goal. \n",
    "3. IMPORTANT: call the dataframe in the last line of the cell below to ensure that the dataframe that you create prints below. Do not use the print statement! "
   ]
  },
  {
   "cell_type": "code",
   "execution_count": null,
   "metadata": {
    "deletable": false,
    "nbgrader": {
     "cell_type": "code",
     "checksum": "b7b970135e17aa1b44e1df3b7a81ec79",
     "grade": false,
     "grade_id": "student-groupby-answer",
     "locked": false,
     "schema_version": 3,
     "solution": true,
     "task": false
    }
   },
   "outputs": [],
   "source": [
    "# YOUR CODE HERE\n",
    "raise NotImplementedError()"
   ]
  },
  {
   "cell_type": "code",
   "execution_count": null,
   "metadata": {
    "deletable": false,
    "editable": false,
    "nbgrader": {
     "cell_type": "code",
     "checksum": "c2e6047c2ec4d88818602736955bd533",
     "grade": true,
     "grade_id": "cell-db940c2b49d7608f",
     "locked": true,
     "points": 10,
     "schema_version": 3,
     "solution": false,
     "task": false
    }
   },
   "outputs": [],
   "source": [
    "# DO NOT MODIFY THIS CELL\n",
    "\n",
    "student_max_fire_dataset = _\n",
    "student_max_year_points = 0\n",
    "\n",
    "if round(sum(student_max_fire_dataset.fire_size_hectares), 0)==1455060:\n",
    "    print((\"\\u2705 Great - you correctly calculated max annual fire size \"\n",
    "           \"in a dataframe!\"))\n",
    "    student_max_year_points += 10\n",
    "else:\n",
    "    print(\"\\u274C Oops - looks like your data frame values were not correct.\")\n",
    "\n",
    "print(\"\\n \\u27A1 You recieved {} out of 10 points\".format(\n",
    "    student_max_year_points))\n",
    "\n",
    "student_max_year_points"
   ]
  },
  {
   "cell_type": "markdown",
   "metadata": {
    "deletable": false,
    "editable": false,
    "nbgrader": {
     "cell_type": "markdown",
     "checksum": "c545a96464cf3850d9530e0953544b30",
     "grade": false,
     "grade_id": "cell-88c9f3b6840805f8",
     "locked": true,
     "schema_version": 3,
     "solution": false,
     "task": false
    }
   },
   "source": [
    "<img style=\"float: left;\" src=\"colored-bar.png\"/>"
   ]
  },
  {
   "cell_type": "markdown",
   "metadata": {
    "deletable": false,
    "editable": false,
    "nbgrader": {
     "cell_type": "markdown",
     "checksum": "442331580dbcee0097e3462aa89f44bc",
     "grade": false,
     "grade_id": "question-plot",
     "locked": true,
     "points": 12,
     "schema_version": 3,
     "solution": false,
     "task": true
    }
   },
   "source": [
    "## Create Figure Using Pandas\n",
    "\n",
    "In the cell below, complete the following task:\n",
    "\n",
    "* Create a figure with two subplots. Each subplot should contain a point for each datapoint and a line that connects the points, since the data are an annual time series.\n",
    "\n",
    "1. The first subplot should contain **maximum fire size per year in hectares**.\n",
    "2. The second subplot in your figure should contain **mean fire size per year in hectares**\n",
    "\n",
    "You will need to compute a new `DataFrame` (or two separate dataframes) using one of the aggregation methods covered in the reading or in class.\n",
    "\n",
    "* Be sure to include an appropriate title and axes labels including units of measurement where appropriate. \n",
    "\n",
    "For your title and labels, be sure to think about the following pieces of information that could help someone easily interpret the plot:\n",
    "* geographic coverage or extent of data.\n",
    "* duration or temporal extent of the data.\n",
    "* what was actually measured and/or represented by the data.\n",
    "* units of measurement.\n",
    "\n",
    "BONUS: add a least squares regression or other appropriate trendline to each plot (up to 5 extra credit points)\n"
   ]
  },
  {
   "cell_type": "code",
   "execution_count": null,
   "metadata": {
    "deletable": false,
    "nbgrader": {
     "cell_type": "code",
     "checksum": "5d95b45c903294f7b007ecd6dbafa91f",
     "grade": false,
     "grade_id": "cell-d6143ee63a7bb66a",
     "locked": false,
     "schema_version": 3,
     "solution": true,
     "task": false
    }
   },
   "outputs": [],
   "source": [
    "# YOUR CODE HERE\n",
    "raise NotImplementedError()"
   ]
  },
  {
   "cell_type": "markdown",
   "metadata": {
    "deletable": false,
    "editable": false,
    "nbgrader": {
     "cell_type": "markdown",
     "checksum": "cbb054d307d943d0e2f3cbd556292dd9",
     "grade": false,
     "grade_id": "cell-7f788bfc379b83e8",
     "locked": true,
     "schema_version": 3,
     "solution": false,
     "task": false
    }
   },
   "source": [
    "## Group DataFrame by Two Columns\n",
    "\n",
    "You can group a dataframe by two (or more) columns using the syntax:\n",
    "```\n",
    "dataframe.groupby([\"column1-name\",\"column2-name\"])\n",
    "```\n",
    "\n",
    "In the cell below, calculate the max fire size in hectares for each year  and \n",
    "grouped by the `cause` column. At the end of the cell, be sure to add the \n",
    "output dataframe so the first and last 5 rows print below (do not use the print()) \n",
    "statement! Just call the variable at the end of the cell.\n",
    "\n",
    "Your final dataframe will look something like this:\n",
    "\n",
    "```\n",
    " \t\t      fire_size_hectares\n",
    "year \tcause \t\n",
    "1992 \tArson \t25899.921086\n",
    "```"
   ]
  },
  {
   "cell_type": "code",
   "execution_count": null,
   "metadata": {
    "deletable": false,
    "nbgrader": {
     "cell_type": "code",
     "checksum": "945fd5e12d7075bb7d1785e169104cb9",
     "grade": false,
     "grade_id": "cell-999afc5ac2484d8f",
     "locked": false,
     "schema_version": 3,
     "solution": true,
     "task": false
    }
   },
   "outputs": [],
   "source": [
    "# YOUR CODE HERE\n",
    "raise NotImplementedError()"
   ]
  },
  {
   "cell_type": "code",
   "execution_count": null,
   "metadata": {
    "deletable": false,
    "editable": false,
    "nbgrader": {
     "cell_type": "code",
     "checksum": "dadf9db1da6100f23698a76add32ece6",
     "grade": true,
     "grade_id": "cell-705037589c745712",
     "locked": true,
     "points": 4,
     "schema_version": 3,
     "solution": false,
     "task": false
    }
   },
   "outputs": [],
   "source": [
    "# DO NOT MODIFY THIS CELL!\n",
    "student_fire_by_cause = _\n",
    "fire_by_cause_pts = 0\n",
    "\n",
    "# Tests that the datset is a pandas dataset\n",
    "if type(student_fire_by_cause) == pd.DataFrame:\n",
    "    print((\"\\u2705 Great job! Your data were correctly Data read in as a \"\n",
    "           \"DataFrame, well done!\"))\n",
    "    fire_by_cause_pts += 1\n",
    "else:\n",
    "    print((\"\\u274C Oops. Your data is not a Dataframe. Make sure to run \"\n",
    "           \"the cell directly above this one immediately before running \"\n",
    "           \"these tests.\"))\n",
    "    \n",
    "if round(sum(student_fire_by_cause.fire_size_hectares), 0) == 3024190:\n",
    "    print((\"\\u2705 Great job! Your data are correct!\"))\n",
    "    fire_by_cause_pts += 3\n",
    "else:\n",
    "    print((\"\\u274C Oops. Your data is not correct. Make sure you \"\n",
    "           \"grouped by both year and fire cause\"))\n",
    "\n",
    "print(\"\\n \\u27A1 You recieved {} out of 4 points\".format(\n",
    "    fire_by_cause_pts))\n",
    "\n",
    "fire_by_cause_pts"
   ]
  },
  {
   "cell_type": "markdown",
   "metadata": {
    "deletable": false,
    "editable": false,
    "nbgrader": {
     "cell_type": "markdown",
     "checksum": "6af8e05447489fccb295001402327793",
     "grade": false,
     "grade_id": "question-explain-plot",
     "locked": true,
     "points": 12,
     "schema_version": 3,
     "solution": false,
     "task": true
    }
   },
   "source": [
    "## Explain Your Data and Plot\n",
    "\n",
    "In the Markdown cell below, write a one-sentence assertion-evidence style headline for your plot, formatted as a heading. Then explain your plot in a few sentences or bullet points. Make sure to proofread.\n",
    "\n",
    "Remove any existing text in the cell before adding your answer.\n"
   ]
  },
  {
   "cell_type": "markdown",
   "metadata": {},
   "source": [
    "### Replace this text with your answer"
   ]
  },
  {
   "cell_type": "markdown",
   "metadata": {
    "deletable": false,
    "editable": false,
    "nbgrader": {
     "cell_type": "markdown",
     "checksum": "98ba1484c4901e36ffd760a988fc83f3",
     "grade": false,
     "grade_id": "cell-67457fd35a504a90",
     "locked": true,
     "schema_version": 3,
     "solution": false,
     "task": false
    }
   },
   "source": [
    "<img style=\"float: left;\" src=\"colored-bar.png\"/>"
   ]
  },
  {
   "cell_type": "markdown",
   "metadata": {
    "deletable": false,
    "editable": false,
    "nbgrader": {
     "cell_type": "markdown",
     "checksum": "086bc5623572c01ef1ac285b46f442c8",
     "grade": false,
     "grade_id": "question-explain-pep-8",
     "locked": true,
     "points": 11,
     "schema_version": 3,
     "solution": false,
     "task": true
    }
   },
   "source": [
    "## Discuss Your Workflow\n",
    "\n",
    "In the Markdown cell below, answer the following questions using any kind of Markdown list.\n",
    "\n",
    "1. When you group and then aggregate with pandas, what is the index of the new `DataFrame`? \n",
    "2. Do you think this is the most appropriate index? Why or why not?\n",
    "3. How many fires were there in California 1992-2018? How do you know?\n",
    "\n",
    "Remove any existing text in the cell before adding your answer.\n"
   ]
  },
  {
   "cell_type": "markdown",
   "metadata": {},
   "source": [
    "### Replace this text with your answer"
   ]
  },
  {
   "cell_type": "markdown",
   "metadata": {
    "deletable": false,
    "editable": false,
    "nbgrader": {
     "cell_type": "markdown",
     "checksum": "c18048ce04abdf042181b18f1363b421",
     "grade": false,
     "grade_id": "cell-c9fedb63ea1af0bc",
     "locked": true,
     "schema_version": 3,
     "solution": false,
     "task": false
    }
   },
   "source": [
    "<img style=\"float: left;\" src=\"colored-bar.png\"/>"
   ]
  },
  {
   "cell_type": "markdown",
   "metadata": {
    "deletable": false,
    "editable": false,
    "nbgrader": {
     "cell_type": "markdown",
     "checksum": "9e79531f9b2befbf4083d82517906cb9",
     "grade": false,
     "grade_id": "cell-2a99d3880f0ed8a8",
     "locked": true,
     "points": 5,
     "schema_version": 3,
     "solution": false,
     "task": true
    }
   },
   "source": [
    "## Does the Notebook Run?\n",
    "Make sure to `Restart and Run All` before submitting your notebook!"
   ]
  },
  {
   "cell_type": "markdown",
   "metadata": {
    "deletable": false,
    "editable": false,
    "nbgrader": {
     "cell_type": "markdown",
     "checksum": "1a38baad7cc8ddff304dcb8e24ad8524",
     "grade": false,
     "grade_id": "cell-145d66a51e779731",
     "locked": true,
     "points": 5,
     "schema_version": 3,
     "solution": false,
     "task": true
    }
   },
   "source": [
    "## PEP 8 adherence\n",
    "Use the autopep8 and Ruler extensions and/or the flake8_nb tool to check and correct PEP 8 errors. "
   ]
  }
 ],
 "metadata": {
  "kernelspec": {
   "display_name": "Python 3 (ipykernel)",
   "language": "python",
   "name": "python3"
  },
  "language_info": {
   "codemirror_mode": {
    "name": "ipython",
    "version": 3
   },
   "file_extension": ".py",
   "mimetype": "text/x-python",
   "name": "python",
   "nbconvert_exporter": "python",
   "pygments_lexer": "ipython3",
   "version": "3.8.12"
  },
  "toc": {
   "base_numbering": 1,
   "nav_menu": {},
   "number_sections": true,
   "sideBar": true,
   "skip_h1_title": false,
   "title_cell": "Table of Contents",
   "title_sidebar": "Contents",
   "toc_cell": false,
   "toc_position": {},
   "toc_section_display": true,
   "toc_window_display": true
  },
  "varInspector": {
   "cols": {
    "lenName": 16,
    "lenType": 16,
    "lenVar": 40
   },
   "kernels_config": {
    "python": {
     "delete_cmd_postfix": "",
     "delete_cmd_prefix": "del ",
     "library": "var_list.py",
     "varRefreshCmd": "print(var_dic_list())"
    },
    "r": {
     "delete_cmd_postfix": ") ",
     "delete_cmd_prefix": "rm(",
     "library": "var_list.r",
     "varRefreshCmd": "cat(var_dic_list()) "
    }
   },
   "types_to_exclude": [
    "module",
    "function",
    "builtin_function_or_method",
    "instance",
    "_Feature"
   ],
   "window_display": false
  }
 },
 "nbformat": 4,
 "nbformat_minor": 2
}
